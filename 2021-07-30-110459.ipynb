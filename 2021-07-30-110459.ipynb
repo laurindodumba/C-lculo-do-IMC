{
 "cells": [
  {
   "cell_type": "markdown",
   "metadata": {
    "collapsed": false
   },
   "source": [
    "# Calculo do IMC - Índice de massa Corporal"
   ]
  },
  {
   "cell_type": "code",
   "execution_count": 0,
   "metadata": {
    "collapsed": false
   },
   "outputs": [
   ],
   "source": [
   ]
  },
  {
   "cell_type": "code",
   "execution_count": 18,
   "metadata": {
    "cocalc": {
     "outputs": {
      "0": {
       "name": "input",
       "opts": {
        "password": false,
        "prompt": "Digite  seu peso"
       },
       "output_type": "stream",
       "value": "50"
      },
      "1": {
       "name": "input",
       "opts": {
        "password": false,
        "prompt": "Digite sua altura: "
       },
       "output_type": "stream",
       "value": "2"
      }
     }
    },
    "collapsed": false
   },
   "outputs": [
    {
     "name": "stdout",
     "output_type": "stream",
     "text": "Digite  seu peso 50"
    },
    {
     "name": "stdout",
     "output_type": "stream",
     "text": "Digite sua altura:  2"
    },
    {
     "name": "stdout",
     "output_type": "stream",
     "text": [
      "Seu peso esta abaixo do ideal. Seu IMC = 12.5.\n"
     ]
    }
   ],
   "source": [
    "peso = float(input(\"Digite  seu peso\"))\n",
    "altura = float(input(\"Digite sua altura: \"))\n",
    "imc = peso / altura**2\n",
    "if imc < 20:\n",
    "    print(\"Seu peso esta abaixo do ideal. Seu IMC = {}.\".format(imc))\n",
    "else:\n",
    "    if imc >= 20 and imc <= 25:\n",
    "        print(\"Seu peso esta dentro da faixa ideal. Seu IMC = {}.\".format(imc))\n",
    "    else:\n",
    "        print(\"Seu peso esta acima do ideial. Seu IMC = {}.\".format(imc))"
   ]
  },
  {
   "cell_type": "code",
   "execution_count": 0,
   "metadata": {
    "collapsed": false
   },
   "outputs": [
   ],
   "source": [
   ]
  },
  {
   "cell_type": "code",
   "execution_count": 0,
   "metadata": {
    "collapsed": false
   },
   "outputs": [
   ],
   "source": [
   ]
  }
 ],
 "metadata": {
  "kernelspec": {
   "display_name": "Python 3 (system-wide)",
   "language": "python",
   "metadata": {
    "cocalc": {
     "description": "Python 3 programming language",
     "priority": 100,
     "url": "https://www.python.org/"
    }
   },
   "name": "python3",
   "resource_dir": "/ext/jupyter/kernels/python3"
  }
 },
 "nbformat": 4,
 "nbformat_minor": 4
}